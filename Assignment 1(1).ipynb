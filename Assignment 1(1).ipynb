{
 "cells": [
  {
   "cell_type": "code",
   "execution_count": 1,
   "metadata": {},
   "outputs": [],
   "source": [
    "import yfinance as yf\n",
    "import pandas as pd"
   ]
  },
  {
   "cell_type": "code",
   "execution_count": 2,
   "metadata": {},
   "outputs": [],
   "source": [
    "def stock_return_cal(directory, startdate):\n",
    "    df = pd.read_excel(directory)\n",
    "    stock_list = df['Stock code'].tolist()\n",
    "    stock_df = yf.download(stock_list, startdate)\n",
    "    stockreturn = {}\n",
    "    for stock in stock_list:\n",
    "        return1= 100*(stock_df.iloc[-1]['Close'][stock] - stock_df.iloc[0]['Close'][stock])/(stock_df.iloc[0]['Close'][stock])\n",
    "        stockreturn[stock] = return1\n",
    "    stockreturn = dict(sorted(stockreturn.items(), reverse=True, key=lambda item: item[1])[:5])\n",
    "    stockreturnlist=list(stockreturn.items())\n",
    "    return stockreturnlist"
   ]
  },
  {
   "cell_type": "code",
   "execution_count": 3,
   "metadata": {},
   "outputs": [
    {
     "name": "stdout",
     "output_type": "stream",
     "text": [
      "[*********************100%***********************]  50 of 50 completed\n"
     ]
    },
    {
     "data": {
      "text/plain": [
       "[('0388.HK', 83.87096736388709),\n",
       " ('0700.HK', 62.39540008154514),\n",
       " ('2313.HK', 49.95641201072931),\n",
       " ('0175.HK', 41.66666564778387),\n",
       " ('2382.HK', 41.22302377824303)]"
      ]
     },
     "execution_count": 3,
     "metadata": {},
     "output_type": "execute_result"
    }
   ],
   "source": [
    "stock_return_cal('C:/Python Work/Stock_monitoring_list1.xlsx', '2020-01-01')"
   ]
  },
  {
   "cell_type": "code",
   "execution_count": 4,
   "metadata": {},
   "outputs": [
    {
     "name": "stdout",
     "output_type": "stream",
     "text": [
      "[*********************100%***********************]  1 of 1 completed\n"
     ]
    }
   ],
   "source": [
    "df2 = yf.download('^HSI','2018-01-01','2020-12-14')"
   ]
  },
  {
   "cell_type": "code",
   "execution_count": 5,
   "metadata": {},
   "outputs": [
    {
     "data": {
      "text/html": [
       "<div>\n",
       "<style scoped>\n",
       "    .dataframe tbody tr th:only-of-type {\n",
       "        vertical-align: middle;\n",
       "    }\n",
       "\n",
       "    .dataframe tbody tr th {\n",
       "        vertical-align: top;\n",
       "    }\n",
       "\n",
       "    .dataframe thead th {\n",
       "        text-align: right;\n",
       "    }\n",
       "</style>\n",
       "<table border=\"1\" class=\"dataframe\">\n",
       "  <thead>\n",
       "    <tr style=\"text-align: right;\">\n",
       "      <th></th>\n",
       "      <th>Open</th>\n",
       "      <th>High</th>\n",
       "      <th>Low</th>\n",
       "      <th>Close</th>\n",
       "      <th>Adj Close</th>\n",
       "      <th>Volume</th>\n",
       "    </tr>\n",
       "    <tr>\n",
       "      <th>Date</th>\n",
       "      <th></th>\n",
       "      <th></th>\n",
       "      <th></th>\n",
       "      <th></th>\n",
       "      <th></th>\n",
       "      <th></th>\n",
       "    </tr>\n",
       "  </thead>\n",
       "  <tbody>\n",
       "    <tr>\n",
       "      <th>2018-01-02</th>\n",
       "      <td>30028.289062</td>\n",
       "      <td>30515.310547</td>\n",
       "      <td>30028.289062</td>\n",
       "      <td>30515.310547</td>\n",
       "      <td>30515.310547</td>\n",
       "      <td>2442333400</td>\n",
       "    </tr>\n",
       "    <tr>\n",
       "      <th>2018-01-03</th>\n",
       "      <td>30658.730469</td>\n",
       "      <td>30724.320312</td>\n",
       "      <td>30456.759766</td>\n",
       "      <td>30560.949219</td>\n",
       "      <td>30560.949219</td>\n",
       "      <td>2309467700</td>\n",
       "    </tr>\n",
       "    <tr>\n",
       "      <th>2018-01-04</th>\n",
       "      <td>30691.710938</td>\n",
       "      <td>30796.929688</td>\n",
       "      <td>30560.429688</td>\n",
       "      <td>30736.480469</td>\n",
       "      <td>30736.480469</td>\n",
       "      <td>2995571100</td>\n",
       "    </tr>\n",
       "    <tr>\n",
       "      <th>2018-01-05</th>\n",
       "      <td>30893.859375</td>\n",
       "      <td>30911.009766</td>\n",
       "      <td>30638.529297</td>\n",
       "      <td>30814.640625</td>\n",
       "      <td>30814.640625</td>\n",
       "      <td>2263930100</td>\n",
       "    </tr>\n",
       "    <tr>\n",
       "      <th>2018-01-08</th>\n",
       "      <td>30895.089844</td>\n",
       "      <td>30929.150391</td>\n",
       "      <td>30732.539062</td>\n",
       "      <td>30899.529297</td>\n",
       "      <td>30899.529297</td>\n",
       "      <td>2004162500</td>\n",
       "    </tr>\n",
       "    <tr>\n",
       "      <th>...</th>\n",
       "      <td>...</td>\n",
       "      <td>...</td>\n",
       "      <td>...</td>\n",
       "      <td>...</td>\n",
       "      <td>...</td>\n",
       "      <td>...</td>\n",
       "    </tr>\n",
       "    <tr>\n",
       "      <th>2020-12-07</th>\n",
       "      <td>26870.580078</td>\n",
       "      <td>26870.580078</td>\n",
       "      <td>26256.400391</td>\n",
       "      <td>26506.849609</td>\n",
       "      <td>26506.849609</td>\n",
       "      <td>2806021200</td>\n",
       "    </tr>\n",
       "    <tr>\n",
       "      <th>2020-12-08</th>\n",
       "      <td>26460.349609</td>\n",
       "      <td>26460.349609</td>\n",
       "      <td>26270.910156</td>\n",
       "      <td>26304.560547</td>\n",
       "      <td>26304.560547</td>\n",
       "      <td>2542680300</td>\n",
       "    </tr>\n",
       "    <tr>\n",
       "      <th>2020-12-09</th>\n",
       "      <td>26510.419922</td>\n",
       "      <td>26666.939453</td>\n",
       "      <td>26445.660156</td>\n",
       "      <td>26502.839844</td>\n",
       "      <td>26502.839844</td>\n",
       "      <td>2537716200</td>\n",
       "    </tr>\n",
       "    <tr>\n",
       "      <th>2020-12-10</th>\n",
       "      <td>26335.259766</td>\n",
       "      <td>26434.470703</td>\n",
       "      <td>26287.019531</td>\n",
       "      <td>26410.589844</td>\n",
       "      <td>26410.589844</td>\n",
       "      <td>2000568900</td>\n",
       "    </tr>\n",
       "    <tr>\n",
       "      <th>2020-12-11</th>\n",
       "      <td>26634.210938</td>\n",
       "      <td>26704.009766</td>\n",
       "      <td>26443.009766</td>\n",
       "      <td>26505.869141</td>\n",
       "      <td>26505.869141</td>\n",
       "      <td>2497420400</td>\n",
       "    </tr>\n",
       "  </tbody>\n",
       "</table>\n",
       "<p>727 rows × 6 columns</p>\n",
       "</div>"
      ],
      "text/plain": [
       "                    Open          High           Low         Close  \\\n",
       "Date                                                                 \n",
       "2018-01-02  30028.289062  30515.310547  30028.289062  30515.310547   \n",
       "2018-01-03  30658.730469  30724.320312  30456.759766  30560.949219   \n",
       "2018-01-04  30691.710938  30796.929688  30560.429688  30736.480469   \n",
       "2018-01-05  30893.859375  30911.009766  30638.529297  30814.640625   \n",
       "2018-01-08  30895.089844  30929.150391  30732.539062  30899.529297   \n",
       "...                  ...           ...           ...           ...   \n",
       "2020-12-07  26870.580078  26870.580078  26256.400391  26506.849609   \n",
       "2020-12-08  26460.349609  26460.349609  26270.910156  26304.560547   \n",
       "2020-12-09  26510.419922  26666.939453  26445.660156  26502.839844   \n",
       "2020-12-10  26335.259766  26434.470703  26287.019531  26410.589844   \n",
       "2020-12-11  26634.210938  26704.009766  26443.009766  26505.869141   \n",
       "\n",
       "               Adj Close      Volume  \n",
       "Date                                  \n",
       "2018-01-02  30515.310547  2442333400  \n",
       "2018-01-03  30560.949219  2309467700  \n",
       "2018-01-04  30736.480469  2995571100  \n",
       "2018-01-05  30814.640625  2263930100  \n",
       "2018-01-08  30899.529297  2004162500  \n",
       "...                  ...         ...  \n",
       "2020-12-07  26506.849609  2806021200  \n",
       "2020-12-08  26304.560547  2542680300  \n",
       "2020-12-09  26502.839844  2537716200  \n",
       "2020-12-10  26410.589844  2000568900  \n",
       "2020-12-11  26505.869141  2497420400  \n",
       "\n",
       "[727 rows x 6 columns]"
      ]
     },
     "execution_count": 5,
     "metadata": {},
     "output_type": "execute_result"
    }
   ],
   "source": [
    "df2"
   ]
  },
  {
   "cell_type": "code",
   "execution_count": 6,
   "metadata": {},
   "outputs": [],
   "source": [
    "df2['Volatility'] = df2['High'] - df2['Low']"
   ]
  },
  {
   "cell_type": "code",
   "execution_count": 7,
   "metadata": {},
   "outputs": [],
   "source": [
    "df2['GAP'] = df2['Open'] - df2['Close'].shift(1)"
   ]
  },
  {
   "cell_type": "code",
   "execution_count": 8,
   "metadata": {},
   "outputs": [],
   "source": [
    "df2['SMA50'] = df2['Close'].rolling(50).mean()"
   ]
  },
  {
   "cell_type": "code",
   "execution_count": 9,
   "metadata": {},
   "outputs": [],
   "source": [
    "month_diff = df2['Close'].resample('M').max() - df2['Close'].resample('M').min()"
   ]
  },
  {
   "cell_type": "code",
   "execution_count": 10,
   "metadata": {},
   "outputs": [],
   "source": [
    "year_diff = df2['Close'].resample('Y').max() - df2['Close'].resample('Y').min()"
   ]
  },
  {
   "cell_type": "code",
   "execution_count": 11,
   "metadata": {},
   "outputs": [
    {
     "data": {
      "text/plain": [
       "Date\n",
       "2018-01-31    2638.810547\n",
       "2018-02-28    3182.458984\n",
       "2018-03-31    1715.058594\n",
       "2018-04-30    1379.021484\n",
       "2018-05-31    1614.580078\n",
       "2018-06-30    3156.371094\n",
       "2018-07-31     910.041016\n",
       "2018-08-31    1507.240234\n",
       "2018-09-30    1628.300781\n",
       "2018-10-31    2540.851562\n",
       "2018-11-30    1266.560547\n",
       "2018-12-31    1781.558594\n",
       "2019-01-31    2878.111328\n",
       "2019-02-28    1058.460938\n",
       "2019-03-31    1237.859375\n",
       "2019-04-30     607.689453\n",
       "2019-05-31    3180.460938\n",
       "2019-06-30    1859.900391\n",
       "2019-07-31    1097.810547\n",
       "2019-08-31    2284.398438\n",
       "2019-09-30    1824.839844\n",
       "2019-10-31    1223.910156\n",
       "2019-11-30    1523.541016\n",
       "2019-12-31    2256.830078\n",
       "2020-01-31    2743.789062\n",
       "2020-02-29    1829.669922\n",
       "2020-03-31    5071.738281\n",
       "2020-04-30    1557.800781\n",
       "2020-05-31    1671.919922\n",
       "2020-06-30    1324.701172\n",
       "2020-07-31    1743.810547\n",
       "2020-08-31    1174.150391\n",
       "2020-09-30    1949.429688\n",
       "2020-10-31    1151.000000\n",
       "2020-11-30    2434.669922\n",
       "2020-12-31     531.359375\n",
       "Freq: M, Name: Close, dtype: float64"
      ]
     },
     "execution_count": 11,
     "metadata": {},
     "output_type": "execute_result"
    }
   ],
   "source": [
    "month_diff"
   ]
  },
  {
   "cell_type": "code",
   "execution_count": 12,
   "metadata": {},
   "outputs": [
    {
     "data": {
      "text/plain": [
       "Date\n",
       "2018-12-31    8568.591797\n",
       "2019-12-31    5093.130859\n",
       "2020-12-31    7360.289062\n",
       "Freq: A-DEC, Name: Close, dtype: float64"
      ]
     },
     "execution_count": 12,
     "metadata": {},
     "output_type": "execute_result"
    }
   ],
   "source": [
    "year_diff"
   ]
  },
  {
   "cell_type": "code",
   "execution_count": 13,
   "metadata": {},
   "outputs": [],
   "source": [
    "def check_max(stockcode):\n",
    "\n",
    "    stock_df = yf.download(stockcode)\n",
    "    if (((stock_df['Close'].rolling(20).max().iloc[-1])-stock_df.iloc[-1]['Close'])/stock_df.iloc[-1]['Close'])*100 > 0.01:\n",
    "        return True\n",
    "    else:\n",
    "        return False"
   ]
  },
  {
   "cell_type": "code",
   "execution_count": null,
   "metadata": {},
   "outputs": [],
   "source": []
  },
  {
   "cell_type": "code",
   "execution_count": null,
   "metadata": {},
   "outputs": [],
   "source": []
  },
  {
   "cell_type": "code",
   "execution_count": null,
   "metadata": {},
   "outputs": [],
   "source": []
  }
 ],
 "metadata": {
  "kernelspec": {
   "display_name": "Python 3",
   "language": "python",
   "name": "python3"
  },
  "language_info": {
   "codemirror_mode": {
    "name": "ipython",
    "version": 3
   },
   "file_extension": ".py",
   "mimetype": "text/x-python",
   "name": "python",
   "nbconvert_exporter": "python",
   "pygments_lexer": "ipython3",
   "version": "3.8.5"
  }
 },
 "nbformat": 4,
 "nbformat_minor": 4
}
